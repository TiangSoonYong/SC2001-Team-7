{
 "cells": [
  {
   "cell_type": "markdown",
   "id": "7b74e39b",
   "metadata": {},
   "source": [
    "# Recursive"
   ]
  },
  {
   "cell_type": "code",
   "execution_count": 22,
   "id": "00f373cb",
   "metadata": {},
   "outputs": [],
   "source": [
    "import numpy as np\n",
    "\n",
    "def P_R(C, W, P):\n",
    "    global S\n",
    "    if C < min(W):\n",
    "        S[C] = 0\n",
    "        return 0\n",
    "    maxProfit = 0\n",
    "    for i in range(len(W)):\n",
    "        if C >= W[i]:\n",
    "            Profit = P[i] + P_R(C-W[i], W, P)\n",
    "            if Profit > maxProfit:\n",
    "                maxProfit = Profit    \n",
    "    S[C] = maxProfit\n",
    "    return maxProfit"
   ]
  },
  {
   "cell_type": "code",
   "execution_count": 23,
   "id": "9aeb6e19",
   "metadata": {},
   "outputs": [
    {
     "name": "stdout",
     "output_type": "stream",
     "text": [
      "21 [0, None, 0, None, 7, None, 7, None, 14, None, 14, None, None, None, 21]\n"
     ]
    }
   ],
   "source": [
    "C = 14\n",
    "W = [4,6,8]\n",
    "P = [7,6,9]\n",
    "S = [None]*(C+1)\n",
    "print(P_R(C,W,P), S)"
   ]
  },
  {
   "cell_type": "code",
   "execution_count": 24,
   "id": "16738a50",
   "metadata": {
    "scrolled": true
   },
   "outputs": [
    {
     "name": "stdout",
     "output_type": "stream",
     "text": [
      "16 [0, 0, 0, 0, 0, None, 7, None, 9, 9, None, None, None, None, 16]\n"
     ]
    }
   ],
   "source": [
    "C = 14\n",
    "W = [5,6,8]\n",
    "P = [7,6,9]\n",
    "S = [None]*(C+1)\n",
    "print(P_R(C,W,P), S)"
   ]
  },
  {
   "cell_type": "markdown",
   "id": "a3c948ac",
   "metadata": {},
   "source": [
    "# Dynamic Programming Bottom Up"
   ]
  },
  {
   "cell_type": "code",
   "execution_count": 25,
   "id": "8c17452f",
   "metadata": {},
   "outputs": [],
   "source": [
    "def P_DP_BU(C, W, P, S):\n",
    "    start = min(W)\n",
    "    for c in range(start):\n",
    "        S[c] = 0\n",
    "    for c in range(start, C+1):\n",
    "        S[c] = 0\n",
    "        for i in range(len(W)):\n",
    "            if c>=W[i]:\n",
    "                Profit = P[i] + S[c-W[i]]\n",
    "                if Profit > S[c]:\n",
    "                    S[c] = Profit\n",
    "            \n",
    "    return S[C], S"
   ]
  },
  {
   "cell_type": "code",
   "execution_count": 26,
   "id": "c4a51b59",
   "metadata": {},
   "outputs": [
    {
     "name": "stdout",
     "output_type": "stream",
     "text": [
      "(21, [0, 0, 0, 0, 7, 7, 7, 7, 14, 14, 14, 14, 21, 21, 21])\n"
     ]
    }
   ],
   "source": [
    "C = 14\n",
    "W = [4,6,8]\n",
    "P = [7,6,9]\n",
    "S = [None]*(C+1)\n",
    "print(P_DP_BU(C, W, P, S))"
   ]
  },
  {
   "cell_type": "code",
   "execution_count": 27,
   "id": "b1a6c0a7",
   "metadata": {},
   "outputs": [
    {
     "name": "stdout",
     "output_type": "stream",
     "text": [
      "(16, [0, 0, 0, 0, 0, 7, 7, 7, 9, 9, 14, 14, 14, 16, 16])\n"
     ]
    }
   ],
   "source": [
    "C = 14\n",
    "W = [5,6,8]\n",
    "P = [7,6,9]\n",
    "S = [None]*(C+1)\n",
    "print(P_DP_BU(C, W, P, S))"
   ]
  },
  {
   "cell_type": "markdown",
   "id": "c1b4b366",
   "metadata": {},
   "source": [
    "# Track Items"
   ]
  },
  {
   "cell_type": "code",
   "execution_count": 32,
   "id": "130ee2a9",
   "metadata": {},
   "outputs": [],
   "source": [
    "def print_item(item):\n",
    "    for entries in item:\n",
    "        print(entries)\n",
    "    \n",
    "def init_item(item, C):\n",
    "    for i in range(len(item)):\n",
    "        item[i][C] = 0\n",
    "        \n",
    "def update_item(item, C, W, i):\n",
    "    item[i][C] = item[i][C-W[i]] + 1"
   ]
  },
  {
   "cell_type": "code",
   "execution_count": 31,
   "id": "2576244f",
   "metadata": {},
   "outputs": [],
   "source": [
    "def P_R_item(C, W, P):\n",
    "    global S\n",
    "    global item\n",
    "    init_item(item, C)\n",
    "    \n",
    "    if C < min(W):\n",
    "        S[C] = 0\n",
    "        return 0\n",
    "    maxProfit = 0\n",
    "    for i in range(len(W)):\n",
    "        if C >= W[i]:\n",
    "            Profit = P[i] + P_R_item(C-W[i], W, P)\n",
    "            if Profit > maxProfit:\n",
    "                maxProfit = Profit\n",
    "                update_item(item, C, W, i)\n",
    "    S[C] = maxProfit\n",
    "    return maxProfit"
   ]
  },
  {
   "cell_type": "code",
   "execution_count": 33,
   "id": "e5aedcb7",
   "metadata": {},
   "outputs": [
    {
     "name": "stdout",
     "output_type": "stream",
     "text": [
      "21\n",
      "[0, None, 0, None, 7, None, 7, None, 14, None, 14, None, None, None, 21]\n",
      "[0, None, 0, None, 1, None, 1, None, 2, None, 2, None, None, None, 3]\n",
      "[0, None, 0, None, 0, None, 0, None, 0, None, 0, None, None, None, 0]\n",
      "[0, None, 0, None, 0, None, 0, None, 0, None, 0, None, None, None, 0]\n"
     ]
    }
   ],
   "source": [
    "C = 14\n",
    "W = [4,6,8]\n",
    "P = [7,6,9]\n",
    "S = [None]*(C+1)\n",
    "item = [[None]*(C+1) for i in range(len(W))]\n",
    "print(P_R_item(C,W,P))\n",
    "print(S)\n",
    "print_item(item)"
   ]
  },
  {
   "cell_type": "code",
   "execution_count": 34,
   "id": "e983789e",
   "metadata": {},
   "outputs": [
    {
     "name": "stdout",
     "output_type": "stream",
     "text": [
      "16\n",
      "[0, 0, 0, 0, 0, None, 7, None, 9, 9, None, None, None, None, 16]\n",
      "[0, 0, 0, 0, 0, None, 1, None, 1, 1, None, None, None, None, 2]\n",
      "[0, 0, 0, 0, 0, None, 0, None, 0, 0, None, None, None, None, 0]\n",
      "[0, 0, 0, 0, 0, None, 0, None, 1, 1, None, None, None, None, 0]\n"
     ]
    }
   ],
   "source": [
    "C = 14\n",
    "W = [5,6,8]\n",
    "P = [7,6,9]\n",
    "S = [None]*(C+1)\n",
    "item = [[None]*(C+1) for i in range(len(W))]\n",
    "print(P_R_item(C,W,P))\n",
    "print(S)\n",
    "print_item(item)"
   ]
  },
  {
   "cell_type": "code",
   "execution_count": 53,
   "id": "a524e1d2",
   "metadata": {},
   "outputs": [],
   "source": [
    "def P_DP_BU_item(C, W, P, S, item):\n",
    "    start = min(W)\n",
    "    for c in range(start):\n",
    "        S[c] = 0\n",
    "        init_item(item, c)\n",
    "    for c in range(start, C+1):\n",
    "        S[c] = 0\n",
    "        init_item(item, c)\n",
    "        for i in range(len(W)):\n",
    "            if c>=W[i]:\n",
    "                Profit = P[i] + S[c-W[i]]\n",
    "                if Profit > S[c]:\n",
    "                    S[c] = Profit\n",
    "                    update_item(item, c, W, i)\n",
    "    return S[C], S, item"
   ]
  },
  {
   "cell_type": "code",
   "execution_count": 54,
   "id": "cd1657bd",
   "metadata": {},
   "outputs": [
    {
     "name": "stdout",
     "output_type": "stream",
     "text": [
      "21\n",
      "[0, 0, 0, 0, 7, 7, 7, 7, 14, 14, 14, 14, 21, 21, 21]\n",
      "[0, 0, 0, 0, 1, 1, 1, 1, 2, 2, 2, 2, 3, 3, 3]\n",
      "[0, 0, 0, 0, 0, 0, 0, 0, 0, 0, 0, 0, 0, 0, 0]\n",
      "[0, 0, 0, 0, 0, 0, 0, 0, 0, 0, 0, 0, 0, 0, 0]\n"
     ]
    }
   ],
   "source": [
    "C = 14\n",
    "W = [4,6,8]\n",
    "P = [7,6,9]\n",
    "S = [None]*(C+1)\n",
    "item = [[None]*(C+1) for i in range(len(W))]\n",
    "maxProfit, S, item = P_DP_BU_item(C,W,P,S,item)\n",
    "print(maxProfit)\n",
    "print(S)\n",
    "print_item(item)"
   ]
  },
  {
   "cell_type": "code",
   "execution_count": 55,
   "id": "e8c0ae52",
   "metadata": {},
   "outputs": [
    {
     "name": "stdout",
     "output_type": "stream",
     "text": [
      "16\n",
      "[0, 0, 0, 0, 0, 7, 7, 7, 9, 9, 14, 14, 14, 16, 16]\n",
      "[0, 0, 0, 0, 0, 1, 1, 1, 1, 1, 2, 2, 2, 2, 2]\n",
      "[0, 0, 0, 0, 0, 0, 0, 0, 0, 0, 0, 0, 0, 0, 0]\n",
      "[0, 0, 0, 0, 0, 0, 0, 0, 1, 1, 0, 0, 0, 0, 0]\n"
     ]
    }
   ],
   "source": [
    "C = 14\n",
    "W = [5,6,8]\n",
    "P = [7,6,9]\n",
    "S = [None]*(C+1)\n",
    "item = [[None]*(C+1) for i in range(len(W))]\n",
    "maxProfit, S, item = P_DP_BU_item(C,W,P,S,item)\n",
    "print(maxProfit)\n",
    "print(S)\n",
    "print_item(item)"
   ]
  },
  {
   "cell_type": "code",
   "execution_count": null,
   "id": "dd031717",
   "metadata": {},
   "outputs": [],
   "source": []
  }
 ],
 "metadata": {
  "kernelspec": {
   "display_name": "Python 3 (ipykernel)",
   "language": "python",
   "name": "python3"
  },
  "language_info": {
   "codemirror_mode": {
    "name": "ipython",
    "version": 3
   },
   "file_extension": ".py",
   "mimetype": "text/x-python",
   "name": "python",
   "nbconvert_exporter": "python",
   "pygments_lexer": "ipython3",
   "version": "3.11.5"
  }
 },
 "nbformat": 4,
 "nbformat_minor": 5
}
