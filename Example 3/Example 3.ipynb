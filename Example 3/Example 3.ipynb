{
 "cells": [
  {
   "cell_type": "markdown",
   "id": "bc4fbb91",
   "metadata": {},
   "source": [
    "# Recursive"
   ]
  },
  {
   "cell_type": "code",
   "execution_count": 68,
   "id": "b4f93cae",
   "metadata": {},
   "outputs": [],
   "source": [
    "import numpy as np\n",
    "\n",
    "def P_R(C, W, P):\n",
    "    global S\n",
    "    if C < min(W):\n",
    "        S[C] = 0\n",
    "        return 0\n",
    "    maxProfit = 0\n",
    "    for i in range(len(W)):\n",
    "        if C >= W[i]:\n",
    "            Profit = P[i] + P_R(C-W[i], W, P)\n",
    "            if Profit > maxProfit:\n",
    "                maxProfit = Profit    \n",
    "    S[C] = maxProfit\n",
    "    return maxProfit"
   ]
  },
  {
   "cell_type": "code",
   "execution_count": 78,
   "id": "13a68ab5",
   "metadata": {},
   "outputs": [
    {
     "name": "stdout",
     "output_type": "stream",
     "text": [
      "21\n",
      "[0, None, 0, None, 7, None, 7, None, 14, None, 14, None, None, None, 21]\n"
     ]
    }
   ],
   "source": [
    "C = 14\n",
    "W = [4,6,8]\n",
    "P = [7,6,9]\n",
    "S = [None]*(C+1)\n",
    "print(P_R(C,W,P))\n",
    "print(S)"
   ]
  },
  {
   "cell_type": "code",
   "execution_count": 70,
   "id": "fe78391f",
   "metadata": {
    "scrolled": true
   },
   "outputs": [
    {
     "name": "stdout",
     "output_type": "stream",
     "text": [
      "16\n",
      "[0, 0, 0, 0, 0, None, 7, None, 9, 9, None, None, None, None, 16]\n"
     ]
    }
   ],
   "source": [
    "C = 14\n",
    "W = [5,6,8]\n",
    "P = [7,6,9]\n",
    "S = [None]*(C+1)\n",
    "print(P_R(C,W,P))\n",
    "print(S)"
   ]
  },
  {
   "cell_type": "markdown",
   "id": "dccc3f98",
   "metadata": {},
   "source": [
    "# Dynamic Programming Bottom Up"
   ]
  },
  {
   "cell_type": "code",
   "execution_count": 30,
   "id": "ff7bf9df",
   "metadata": {},
   "outputs": [],
   "source": [
    "def P_DP(C, W, P):\n",
    "    global S\n",
    "    start = min(W)\n",
    "    for c in range(start):\n",
    "        S[c] = 0\n",
    "    for c in range(start, C+1):\n",
    "        S[c] = 0\n",
    "        for i in range(len(W)):\n",
    "            if c>=W[i]:\n",
    "                Profit = P[i] + S[c-W[i]]\n",
    "                if Profit > S[c]:\n",
    "                    S[c] = Profit\n",
    "            \n",
    "    return S[C]"
   ]
  },
  {
   "cell_type": "code",
   "execution_count": 31,
   "id": "1f696ff6",
   "metadata": {},
   "outputs": [
    {
     "name": "stdout",
     "output_type": "stream",
     "text": [
      "21\n",
      "[0, 0, 0, 0, 7, 7, 7, 7, 14, 14, 14, 14, 21, 21, 21]\n"
     ]
    }
   ],
   "source": [
    "C = 14\n",
    "W = [4,6,8]\n",
    "P = [7,6,9]\n",
    "S = [None]*(C+1)\n",
    "print(P_DP(C, W, P))\n",
    "print(S)"
   ]
  },
  {
   "cell_type": "code",
   "execution_count": 32,
   "id": "28a24f27",
   "metadata": {},
   "outputs": [
    {
     "name": "stdout",
     "output_type": "stream",
     "text": [
      "16\n",
      "[0, 0, 0, 0, 0, 7, 7, 7, 9, 9, 14, 14, 14, 16, 16]\n"
     ]
    }
   ],
   "source": [
    "C = 14\n",
    "W = [5,6,8]\n",
    "P = [7,6,9]\n",
    "S = [None]*(C+1)\n",
    "print(P_DP(C, W, P))\n",
    "print(S)"
   ]
  }
 ],
 "metadata": {
  "kernelspec": {
   "display_name": "Python 3 (ipykernel)",
   "language": "python",
   "name": "python3"
  },
  "language_info": {
   "codemirror_mode": {
    "name": "ipython",
    "version": 3
   },
   "file_extension": ".py",
   "mimetype": "text/x-python",
   "name": "python",
   "nbconvert_exporter": "python",
   "pygments_lexer": "ipython3",
   "version": "3.11.5"
  }
 },
 "nbformat": 4,
 "nbformat_minor": 5
}
